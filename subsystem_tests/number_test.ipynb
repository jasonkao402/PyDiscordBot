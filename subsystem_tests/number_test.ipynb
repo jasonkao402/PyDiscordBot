{
 "cells": [
  {
   "cell_type": "code",
   "execution_count": null,
   "id": "93f486aa",
   "metadata": {},
   "outputs": [],
   "source": [
    "import numpy as np\n",
    "import matplotlib.pyplot as plt"
   ]
  },
  {
   "cell_type": "code",
   "execution_count": null,
   "id": "9f20b5d1",
   "metadata": {},
   "outputs": [],
   "source": [
    "arr = []"
   ]
  }
 ],
 "metadata": {
  "kernelspec": {
   "display_name": "Python 3",
   "language": "python",
   "name": "python3"
  },
  "language_info": {
   "name": "python",
   "version": "3.12.6"
  }
 },
 "nbformat": 4,
 "nbformat_minor": 5
}
