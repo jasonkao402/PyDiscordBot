{
 "cells": [
  {
   "cell_type": "code",
   "execution_count": null,
   "id": "a07210c2",
   "metadata": {},
   "outputs": [],
   "source": [
    "import feedparser\n",
    "import re, os\n",
    "import requests\n",
    "import threading, tqdm\n",
    "from PIL import Image\n",
    "from io import BytesIO"
   ]
  },
  {
   "cell_type": "code",
   "execution_count": null,
   "id": "114bffd7",
   "metadata": {},
   "outputs": [],
   "source": [
    "rss_url = \"https://www.pixivision.net/zh-tw/rss\"\n",
    "feed = feedparser.parse(rss_url) \n",
    "\n",
    "# 檢查有沒有成功載入\n",
    "if feed.bozo == 0:\n",
    "    print(\"伊莉亞成功載入 RSS 了呢～♡\")\n",
    "else:\n",
    "    print(\"哎呀，好像有點問題…請檢查 URL 喔～\")"
   ]
  },
  {
   "cell_type": "code",
   "execution_count": null,
   "id": "6658e799",
   "metadata": {},
   "outputs": [],
   "source": [
    "def imageDL(url, savefilename):\n",
    "    response = requests.get(url)\n",
    "\n",
    "    if response.status_code != 200:\n",
    "        print(f\"Failed. code: {response.status_code}, url: {url}\")\n",
    "        return\n",
    "\n",
    "    img = Image.open(BytesIO(response.content))\n",
    "    if img.mode in (\"RGBA\", \"P\"):\n",
    "        img = img.convert(\"RGB\")\n",
    "    img.save(savefilename)"
   ]
  },
  {
   "cell_type": "code",
   "execution_count": null,
   "id": "d4113072",
   "metadata": {},
   "outputs": [],
   "source": [
    "_threads = []\n",
    "saved = []\n",
    "[('', ''), ]\n",
    "for entry in feed.entries[10:20]:\n",
    "    # print(entry.title)      # 標題\n",
    "    # print(entry.link)       # 原始網址\n",
    "    # print(entry.summary)    # 摘要 HTML\n",
    "    # print(entry.href)       # 連結網址\n",
    "    img_link = re.sub(r'i.pximg.net/c/128x128_80', r'i.pixiv.cat', entry.href) # 替換網址\n",
    "    img_date = re.search(r'img/(\\d+)/(\\d+)/(\\d+)/', img_link)\n",
    "    img_date = f\"{img_date.group(1)}_{img_date.group(2)}{img_date.group(3)}\" # 取得日期\n",
    "    img_id = re.search(r'/(\\d+)_', img_link).group(1) # 取得圖片 ID\n",
    "    filename = f'imgs/img_{img_date}_{img_id}.jpg'\n",
    "    saved.append(filename)\n",
    "    _threads.append(threading.Thread(target=imageDL, args=(img_link, filename), name=filename))\n",
    "    # display(img_link)\n",
    "\n",
    "for t in _threads:\n",
    "    t.start()\n",
    "for t in _threads:\n",
    "    t.join()\n",
    "\n",
    "# for t in saved:\n",
    "#     img = Image.open(t)\n",
    "#     display(img)"
   ]
  }
 ],
 "metadata": {
  "kernelspec": {
   "display_name": "Python 3",
   "language": "python",
   "name": "python3"
  },
  "language_info": {
   "codemirror_mode": {
    "name": "ipython",
    "version": 3
   },
   "file_extension": ".py",
   "mimetype": "text/x-python",
   "name": "python",
   "nbconvert_exporter": "python",
   "pygments_lexer": "ipython3",
   "version": "3.10.6"
  }
 },
 "nbformat": 4,
 "nbformat_minor": 5
}
